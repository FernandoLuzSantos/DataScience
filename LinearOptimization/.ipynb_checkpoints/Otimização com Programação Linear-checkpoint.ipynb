{
 "cells": [
  {
   "cell_type": "markdown",
   "id": "bea9ec23",
   "metadata": {},
   "source": [
    "# Problema de negócio: Otimização do mix de produtos de uma empresa"
   ]
  },
  {
   "cell_type": "raw",
   "id": "9cdf2c14",
   "metadata": {},
   "source": [
    "Uma empresa fabrica três modelos de calçados de couro. A demanda de mercado projetada para cada um dos modelos é 400, 490 e 450, respectivamente para o modelos M1, M2, M3.\n",
    "A disponibilidade de couro permite fabricar no máximo 800 pares de calçados dos três modelos por mês.\n",
    "A disponibilidade de solados permite produzir no máximo 400 pares do modelo M1, 490 pares do modelo M2 e 450 pares do modelo M3 por mês.\n",
    "Os preços de venda dos calçados são de R$ 200,00 para M1, R$ 125,00 para M2 e R$ 70,00 para M3. \n",
    "O custo dos materiais para fabricação de cada par são de R$ 60,00 para M1, R$ 45,00 para M2 e R$30,00 para M3.\n",
    "Para fabricar cada modelo de calçado é empregada mão de obra cujo custo é de R 28,00/hora para o modelo M1 e R$ 18,00 para os modelos M2 e M3. Há também o processo de controle de qualidade dos calçados produzidos que emprega um trabalhador cujo custo da mão de obra é de R$ 24,00/hora. \n",
    "A disponibilidade de horas para fabricação na empresa é de 1400 horas/mês e para teste é de 200 horas/mês. Como critério de qualidade da empresa, todos os pares de calçados produzidos devem ser verificados.\n",
    "Para a fabricação de cada modelo de calçado são gastas 3,4h, 2h e 1h e para verificação são gastas 0,12h.\n",
    "Determinar o mix de produção para maximizar o lucro total mensal da empresa."
   ]
  },
  {
   "cell_type": "markdown",
   "id": "49f6439c",
   "metadata": {},
   "source": [
    "## Solução: Este projeto se utiliza de programação linear em linguagem Python para modelagem e resolução do problema, fornecendo ao fim as quantidades de cada produto a serem produzidos com base em analytics envolvendo setores de marketing e planejamento da produção."
   ]
  },
  {
   "cell_type": "code",
   "execution_count": 1,
   "id": "2e7f3ed4",
   "metadata": {},
   "outputs": [],
   "source": [
    "from pulp import *"
   ]
  },
  {
   "cell_type": "markdown",
   "id": "ba3566b6",
   "metadata": {},
   "source": [
    "Organização do modelo matemático"
   ]
  },
  {
   "cell_type": "code",
   "execution_count": 2,
   "id": "82cfefc0",
   "metadata": {},
   "outputs": [],
   "source": [
    "# Demanda de mercado máxima por mês\n",
    "D_M1 = 400\n",
    "D_M2 = 490\n",
    "D_M3 = 450"
   ]
  },
  {
   "cell_type": "code",
   "execution_count": 3,
   "id": "10adc944",
   "metadata": {},
   "outputs": [],
   "source": [
    "# Disponibilidade de solados por mês\n",
    "S_M1 = 350\n",
    "S_M2 = 380\n",
    "S_M3 = 400"
   ]
  },
  {
   "cell_type": "code",
   "execution_count": 4,
   "id": "46b490b5",
   "metadata": {},
   "outputs": [],
   "source": [
    "# Preço de venda de cada modelo.\n",
    "L_M1 = 200\n",
    "L_M2 = 125\n",
    "L_M3 = 70"
   ]
  },
  {
   "cell_type": "code",
   "execution_count": 5,
   "id": "24d4f3b4",
   "metadata": {},
   "outputs": [],
   "source": [
    "# Preço de custo dos materiais para fabricação dos calçados\n",
    "C_M1 = 60\n",
    "C_M2 = 45\n",
    "C_M3 = 30"
   ]
  },
  {
   "cell_type": "code",
   "execution_count": 6,
   "id": "06aed5e2",
   "metadata": {},
   "outputs": [],
   "source": [
    "# Custo da mão de obra de fabricação por hora por modelo\n",
    "A_M1 = 28\n",
    "A_M2 = 18\n",
    "A_M3 = 18"
   ]
  },
  {
   "cell_type": "code",
   "execution_count": 7,
   "id": "9be6ea10",
   "metadata": {},
   "outputs": [],
   "source": [
    "# Custo da mão de obra do setor de qualidade por hora por modelo\n",
    "B_M1 = 24\n",
    "B_M2 = 24\n",
    "B_M3 = 24"
   ]
  },
  {
   "cell_type": "code",
   "execution_count": 8,
   "id": "3a49fc79",
   "metadata": {},
   "outputs": [],
   "source": [
    "# Número máximo de horas de trabalho de montagem\n",
    "M = 1400"
   ]
  },
  {
   "cell_type": "code",
   "execution_count": 9,
   "id": "faa13d38",
   "metadata": {},
   "outputs": [],
   "source": [
    "# Número máximo de horas de trabalho de qualidade\n",
    "T = 200"
   ]
  },
  {
   "cell_type": "code",
   "execution_count": 10,
   "id": "dcd0b317",
   "metadata": {},
   "outputs": [],
   "source": [
    "# Horas de montagem necessárias para fabricar cada modelo\n",
    "HM_M1 = 3.4\n",
    "HM_M2 = 2\n",
    "HM_M3 = 1"
   ]
  },
  {
   "cell_type": "code",
   "execution_count": 11,
   "id": "bd24a21f",
   "metadata": {},
   "outputs": [],
   "source": [
    "# Horas de teste necessárias para testar\n",
    "HT_M1 = 0.12\n",
    "HT_M2 = 0.12\n",
    "HT_M3 = 0.12"
   ]
  },
  {
   "cell_type": "code",
   "execution_count": 12,
   "id": "98f6807e",
   "metadata": {},
   "outputs": [],
   "source": [
    "# Criação da variável para o problema de otimização\n",
    "problema = pulp.LpProblem(\"MixProdutos\", LpMaximize)"
   ]
  },
  {
   "cell_type": "code",
   "execution_count": 13,
   "id": "b652db51",
   "metadata": {},
   "outputs": [
    {
     "data": {
      "text/plain": [
       "MixProdutos:\n",
       "MAXIMIZE\n",
       "None\n",
       "VARIABLES"
      ]
     },
     "execution_count": 13,
     "metadata": {},
     "output_type": "execute_result"
    }
   ],
   "source": [
    "problema"
   ]
  },
  {
   "cell_type": "code",
   "execution_count": 14,
   "id": "a2012f9a",
   "metadata": {},
   "outputs": [
    {
     "name": "stdout",
     "output_type": "stream",
     "text": [
      "Unidades_M1\n",
      "Unidades_M2\n",
      "Unidades_M3\n"
     ]
    }
   ],
   "source": [
    "# Definição da variável de decisão para cada modelo de calçado\n",
    "x_M1 = LpVariable(\"Unidades M1\", 0, None, LpInteger); print(x_M1)\n",
    "x_M2 = LpVariable(\"Unidades M2\", 0, None, LpInteger); print(x_M2)\n",
    "x_M3 = LpVariable(\"Unidades M3\", 0, None, LpInteger); print(x_M3)"
   ]
  },
  {
   "cell_type": "markdown",
   "id": "0e41a2bd",
   "metadata": {},
   "source": [
    "# Implementação da função objetivo\n",
    "lucro = receita - custo de mao de obra de fabricação - custo de mão de obra de verificação - custo de materiais"
   ]
  },
  {
   "cell_type": "code",
   "execution_count": 15,
   "id": "d2db7601",
   "metadata": {},
   "outputs": [
    {
     "data": {
      "text/plain": [
       "200*Unidades_M1 + 125*Unidades_M2 + 70*Unidades_M3 + 0"
      ]
     },
     "execution_count": 15,
     "metadata": {},
     "output_type": "execute_result"
    }
   ],
   "source": [
    "# Definição da receita\n",
    "receita = (x_M1 * L_M1) + (x_M2 * L_M2) + (x_M3 * L_M3)\n",
    "receita"
   ]
  },
  {
   "cell_type": "code",
   "execution_count": 16,
   "id": "4d38f40d",
   "metadata": {},
   "outputs": [],
   "source": [
    "# Custo de mão de obra de fabricação\n",
    "C_fab = (x_M1 * A_M1 * HM_M1) + (x_M2 * A_M2 * HM_M2) + (x_M3 * A_M3 * HM_M3)"
   ]
  },
  {
   "cell_type": "code",
   "execution_count": 17,
   "id": "4f8a6447",
   "metadata": {},
   "outputs": [],
   "source": [
    "# Custo de mão de obra de verificação\n",
    "C_ver = (x_M1 * B_M1 * HT_M1) + (x_M2 * B_M2 * HT_M2) + (x_M3 * B_M3 * HT_M3)"
   ]
  },
  {
   "cell_type": "code",
   "execution_count": 18,
   "id": "c2dc8851",
   "metadata": {},
   "outputs": [],
   "source": [
    "# Custo de materiais\n",
    "C_mat = (x_M1 * C_M1) + (x_M2 * C_M2) + (x_M3 * C_M3)"
   ]
  },
  {
   "cell_type": "code",
   "execution_count": 19,
   "id": "ace0bbb3",
   "metadata": {},
   "outputs": [],
   "source": [
    "# Restrição da quantidade de couro \n",
    "problema += x_M1 + x_M2 + x_M3 <= 800"
   ]
  },
  {
   "cell_type": "code",
   "execution_count": 20,
   "id": "5e1db25a",
   "metadata": {},
   "outputs": [],
   "source": [
    "# Restrição da disponibilidade dos solados\n",
    "problema += x_M1 <= S_M1\n",
    "problema += x_M2 <= S_M2\n",
    "problema += x_M3 <= S_M3"
   ]
  },
  {
   "cell_type": "code",
   "execution_count": 21,
   "id": "2658abed",
   "metadata": {},
   "outputs": [],
   "source": [
    "# Não serão aceitos estoques, portanto a produção máxima deve ser igual a demanda de mercado\n",
    "problema += x_M1 <= D_M1\n",
    "problema += x_M2 <= D_M2\n",
    "problema += x_M3 <= D_M3"
   ]
  },
  {
   "cell_type": "code",
   "execution_count": 22,
   "id": "858bfba2",
   "metadata": {},
   "outputs": [],
   "source": [
    "problema += (x_M1 * HM_M1) + (x_M2 * HM_M2) + (x_M3 * HM_M3) <= M"
   ]
  },
  {
   "cell_type": "code",
   "execution_count": 23,
   "id": "d76cffab",
   "metadata": {},
   "outputs": [],
   "source": [
    "problema += (x_M1 * HT_M1) + (x_M2 * HT_M2) + (x_M3 * HT_M3) <= T"
   ]
  },
  {
   "cell_type": "code",
   "execution_count": 24,
   "id": "79364206",
   "metadata": {},
   "outputs": [
    {
     "data": {
      "text/plain": [
       "MixProdutos:\n",
       "MAXIMIZE\n",
       "41.92*Unidades_M1 + 41.120000000000005*Unidades_M2 + 19.119999999999997*Unidades_M3 + 0.0\n",
       "SUBJECT TO\n",
       "_C1: Unidades_M1 + Unidades_M2 + Unidades_M3 <= 800\n",
       "\n",
       "_C2: Unidades_M1 <= 350\n",
       "\n",
       "_C3: Unidades_M2 <= 380\n",
       "\n",
       "_C4: Unidades_M3 <= 400\n",
       "\n",
       "_C5: Unidades_M1 <= 400\n",
       "\n",
       "_C6: Unidades_M2 <= 490\n",
       "\n",
       "_C7: Unidades_M3 <= 450\n",
       "\n",
       "_C8: 3.4 Unidades_M1 + 2 Unidades_M2 + Unidades_M3 <= 1400\n",
       "\n",
       "_C9: 0.12 Unidades_M1 + 0.12 Unidades_M2 + 0.12 Unidades_M3 <= 200\n",
       "\n",
       "VARIABLES\n",
       "0 <= Unidades_M1 Integer\n",
       "0 <= Unidades_M2 Integer\n",
       "0 <= Unidades_M3 Integer"
      ]
     },
     "execution_count": 24,
     "metadata": {},
     "output_type": "execute_result"
    }
   ],
   "source": [
    "# Inserir função objetivo\n",
    "problema += receita - C_fab - C_ver - C_mat\n",
    "problema"
   ]
  },
  {
   "cell_type": "code",
   "execution_count": 25,
   "id": "6bddc247",
   "metadata": {},
   "outputs": [
    {
     "data": {
      "text/plain": [
       "1"
      ]
     },
     "execution_count": 25,
     "metadata": {},
     "output_type": "execute_result"
    }
   ],
   "source": [
    "problema.solve()"
   ]
  },
  {
   "cell_type": "code",
   "execution_count": 26,
   "id": "09d95a75",
   "metadata": {},
   "outputs": [
    {
     "name": "stdout",
     "output_type": "stream",
     "text": [
      "Lucro Maximizado: 25734.48\n"
     ]
    }
   ],
   "source": [
    "# Lucro Maximizado\n",
    "print(\"Lucro Maximizado:\", value(problema.objective))"
   ]
  },
  {
   "cell_type": "code",
   "execution_count": 27,
   "id": "c407f049",
   "metadata": {},
   "outputs": [
    {
     "name": "stdout",
     "output_type": "stream",
     "text": [
      "Número de Unidades do Modelo M1 a Produzir: 92.0\n"
     ]
    }
   ],
   "source": [
    "# Número de Unidades do Modelo M1\n",
    "print(\"Número de Unidades do Modelo M1 a Produzir:\", problema.variables()[0].varValue)"
   ]
  },
  {
   "cell_type": "code",
   "execution_count": 28,
   "id": "cce911ae",
   "metadata": {},
   "outputs": [
    {
     "name": "stdout",
     "output_type": "stream",
     "text": [
      "Número de Unidades do Modelo M2 a Produzir: 380.0\n"
     ]
    }
   ],
   "source": [
    "# Número de Unidades do Modelo M2\n",
    "print(\"Número de Unidades do Modelo M2 a Produzir:\", problema.variables()[1].varValue)"
   ]
  },
  {
   "cell_type": "code",
   "execution_count": 29,
   "id": "d7fa5283",
   "metadata": {},
   "outputs": [
    {
     "name": "stdout",
     "output_type": "stream",
     "text": [
      "Número de Unidades do Modelo M3 a Produzir: 327.0\n"
     ]
    }
   ],
   "source": [
    "# Número de Unidades do Modelo M2\n",
    "print(\"Número de Unidades do Modelo M3 a Produzir:\", problema.variables()[2].varValue)"
   ]
  }
 ],
 "metadata": {
  "kernelspec": {
   "display_name": "Python 3 (ipykernel)",
   "language": "python",
   "name": "python3"
  },
  "language_info": {
   "codemirror_mode": {
    "name": "ipython",
    "version": 3
   },
   "file_extension": ".py",
   "mimetype": "text/x-python",
   "name": "python",
   "nbconvert_exporter": "python",
   "pygments_lexer": "ipython3",
   "version": "3.9.12"
  }
 },
 "nbformat": 4,
 "nbformat_minor": 5
}
